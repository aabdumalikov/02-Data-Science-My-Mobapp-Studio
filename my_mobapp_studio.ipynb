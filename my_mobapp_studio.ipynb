%pip install pandas
%pip install numpy
%pip install plotly-express


import pandas as pd
import numpy as np
import plotly.express as px


def load_dataset():
    df = pd.read_csv("/home/aziz/Downloads/googleplaystore.csv")
    df.drop(columns=["Last Updated", "Current Ver", "Android Ver"], axis=1, inplace=True)
    return df


apps = load_dataset()


apps[apps["Size"] == "1,000+"]
apps.drop(10472, axis=0, inplace=True)


def print_summarize_dataset(dataset):
    print("This is full info about dataset")
    print(dataset.info())
    print("This is statistics")
    print(dataset.describe())


print_summarize_dataset(apps)


def convert_mb(row):
    if type(row) == str:
        if row[-1].lower() == "k":
            row = row.replace('k', '')
            return float(row) / 1024
        elif row[-1].lower() == "m":
            row = row.replace('M', '')
            return float(row)
        elif row.isalpha():
            return None
    return row


def clean_dataset(df):
    filter = {'"': '', ',': '', ';': ' ', 'Everyone 10+': 'Everyone', 'Adults only 18+': 'Adults only',
              'Mature 17+': 'Mature', 'Varies with device': 'NaN', 'Unrated': 'NaN', 'and up': ''}
    df.replace(filter, inplace=True, regex=True)
    df['Rating'] = df['Rating'].apply(lambda rating: 0 if pd.isna(rating) else rating)
    df['Reviews'] = df['Reviews'].astype(float)
    df['Size'] = df['Size'].apply(convert_mb)
    mean_size = df[df['Size'] != "Varies with device"]['Size']
    mean_size = mean_size.astype(float).mean()
    df['Size'] = df['Size'].apply(lambda x: mean_size if x == "Varies with device" else x)
    df.dropna(subset=['Size'], inplace=True)
    df['Installs'] = df['Installs'].str.replace(r'[+]', '', regex=True)
    df['Installs'] = df['Installs'].astype(float)
    try:
        df['Price'] = df['Price'].str.replace('$', '').astype(float)
    except ValueError:
        df['Price'] = df['Price'].replace('$', '').astype(float)
    df['Content Rating'] = df['Content Rating'].str.replace(r'[+]', '', regex=True)
    df['Content Rating'] = df['Content Rating'].str.replace('NaN', 'Unrated')
    df['Popularity'] = df.Rating * 10 ** 7 * df.Reviews * 10 ** 2 * df.Installs
    return df


df = clean_dataset(apps)
df


def compute_correlations_matrix(dataset):
    corr_df = dataset.corr(numeric_only=True)
    fig = px.imshow(corr_df, text_auto=True, width=900, height=900, title='Correlation of dataset')
    fig.show()


compute_correlations_matrix(df)


def print_histograms(dataset):
    fig = px.histogram(dataset, x='Category', y='Installs', barmode='group',
                       title='Total installations of per category')
    fig.show()


print_histograms(df)


def print_scatter_matrix():
    fig = px.scatter(df, x='Genres', y='Reviews', title='Total Reviews of Genres')
    fig.show()


print_scatter_matrix()


family_category_paid_apps = apps[(apps['Category'] == 'FAMILY') & (apps['Price'] != 0)]
family_category_paid_apps.sort_values(by='Installs', axis=0, ascending=False, inplace=True)
fig = px.bar(family_category_paid_apps.head(15), x='App', y='Installs', color='App',
             title='The most populars paid apps of Family category')
fig.show()


family_category_paid_genre = apps[(apps['Category'] == 'FAMILY') & (apps['Price'] != 0)]
family_category_paid_genre.sort_values(by='Installs', axis=0, ascending=False, inplace=True)
fig = px.pie(family_category_paid_genre.head(20), names='Genres', color='Genres', title='The most popular genres',
             width=900, height=900)
fig.show()


per_df = df.groupby(by='Category').sum().sort_values(by='Installs', ascending=False)['Installs'].head(15)
fig = px.pie(per_df, names=per_df.index, values='Installs', title='A pie with the number of installation per category',
             color=per_df.index, width=800, height=800)
fig.show()


mean_price_per_category = df.groupby(by="Category").mean(numeric_only=True)['Price'].sort_values(ascending=False).head(
    10)
fig = px.bar(mean_price_per_category, x=mean_price_per_category.index, y='Price', color=mean_price_per_category,
             title='Mean price of per category')
fig.show()


most_expensive = df.sort_values(by='Price', axis=0, ascending=False)
fig = px.sunburst(most_expensive, path=['Category', 'App'], values='Price', color='Genres',
                  title='The most expensive apps of per category', width=800, height=800)
fig.show()
